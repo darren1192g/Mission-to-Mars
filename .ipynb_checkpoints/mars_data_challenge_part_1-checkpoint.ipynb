{
 "cells": [
  {
   "cell_type": "code",
   "execution_count": 1,
   "id": "b98fff10",
   "metadata": {},
   "outputs": [],
   "source": [
    "from splinter import Browser\n",
    "from bs4 import BeautifulSoup as soup\n",
    "from webdriver_manager.chrome import ChromeDriverManager"
   ]
  },
  {
   "cell_type": "code",
   "execution_count": 2,
   "id": "6e6b72f8",
   "metadata": {},
   "outputs": [],
   "source": [
    "executable_path = {'executable_path': ChromeDriverManager().install()}\n",
    "browser = Browser('chrome', **executable_path, headless=False)"
   ]
  },
  {
   "cell_type": "code",
   "execution_count": 3,
   "id": "7f09608f",
   "metadata": {},
   "outputs": [],
   "source": [
    "url = 'https://redplanetscience.com'\n",
    "browser.visit(url)"
   ]
  },
  {
   "cell_type": "code",
   "execution_count": 47,
   "id": "59184f27",
   "metadata": {},
   "outputs": [
    {
     "ename": "WebDriverException",
     "evalue": "Message: disconnected: Unable to receive message from renderer\n  (failed to check if window was closed: disconnected: Unable to receive message from renderer)\n  (Session info: chrome=107.0.5304.87)\nStacktrace:\n0   chromedriver                        0x0000000104da92c8 chromedriver + 4752072\n1   chromedriver                        0x0000000104d29463 chromedriver + 4228195\n2   chromedriver                        0x000000010498cb18 chromedriver + 441112\n3   chromedriver                        0x0000000104976f4d chromedriver + 352077\n4   chromedriver                        0x0000000104976ca2 chromedriver + 351394\n5   chromedriver                        0x0000000104975b0d chromedriver + 346893\n6   chromedriver                        0x0000000104975ec2 chromedriver + 347842\n7   chromedriver                        0x0000000104975351 chromedriver + 344913\n8   chromedriver                        0x0000000104983ec0 chromedriver + 405184\n9   chromedriver                        0x0000000104975306 chromedriver + 344838\n10  chromedriver                        0x00000001049768fe chromedriver + 350462\n11  chromedriver                        0x0000000104975b0d chromedriver + 346893\n12  chromedriver                        0x0000000104975ec2 chromedriver + 347842\n13  chromedriver                        0x0000000104975351 chromedriver + 344913\n14  chromedriver                        0x0000000104980faa chromedriver + 393130\n15  chromedriver                        0x0000000104975306 chromedriver + 344838\n16  chromedriver                        0x00000001049768fe chromedriver + 350462\n17  chromedriver                        0x0000000104975b0d chromedriver + 346893\n18  chromedriver                        0x0000000104975ec2 chromedriver + 347842\n19  chromedriver                        0x0000000104975351 chromedriver + 344913\n20  chromedriver                        0x000000010497c52c chromedriver + 374060\n21  chromedriver                        0x0000000104975306 chromedriver + 344838\n22  chromedriver                        0x00000001049768fe chromedriver + 350462\n23  chromedriver                        0x0000000104975b0d chromedriver + 346893\n24  chromedriver                        0x0000000104975ec2 chromedriver + 347842\n25  chromedriver                        0x0000000104975351 chromedriver + 344913\n26  chromedriver                        0x000000010496f260 chromedriver + 320096\n27  chromedriver                        0x0000000104975306 chromedriver + 344838\n28  chromedriver                        0x0000000104974872 chromedriver + 342130\n29  chromedriver                        0x0000000104974a3d chromedriver + 342589\n30  chromedriver                        0x0000000104974d37 chromedriver + 343351\n31  chromedriver                        0x0000000104974ced chromedriver + 343277\n32  chromedriver                        0x000000010498e25b chromedriver + 447067\n33  chromedriver                        0x0000000104a02768 chromedriver + 923496\n34  chromedriver                        0x00000001049eab33 chromedriver + 826163\n35  chromedriver                        0x00000001049bb9fd chromedriver + 633341\n36  chromedriver                        0x00000001049bd051 chromedriver + 639057\n37  chromedriver                        0x0000000104d7630e chromedriver + 4543246\n38  chromedriver                        0x0000000104d7aa88 chromedriver + 4561544\n39  chromedriver                        0x0000000104d826df chromedriver + 4593375\n40  chromedriver                        0x0000000104d7b8fa chromedriver + 4565242\n41  chromedriver                        0x0000000104d512cf chromedriver + 4391631\n42  chromedriver                        0x0000000104d9a5b8 chromedriver + 4691384\n43  chromedriver                        0x0000000104d9a739 chromedriver + 4691769\n44  chromedriver                        0x0000000104db081e chromedriver + 4782110\n45  libsystem_pthread.dylib             0x00007ff80934d4e1 _pthread_start + 125\n46  libsystem_pthread.dylib             0x00007ff809348f6b thread_start + 15\n",
     "output_type": "error",
     "traceback": [
      "\u001b[0;31m---------------------------------------------------------------------------\u001b[0m",
      "\u001b[0;31mWebDriverException\u001b[0m                        Traceback (most recent call last)",
      "Input \u001b[0;32mIn [47]\u001b[0m, in \u001b[0;36m<cell line: 1>\u001b[0;34m()\u001b[0m\n\u001b[0;32m----> 1\u001b[0m html \u001b[38;5;241m=\u001b[39m \u001b[43mbrowser\u001b[49m\u001b[38;5;241;43m.\u001b[39;49m\u001b[43mhtml\u001b[49m\n\u001b[1;32m      2\u001b[0m news_soup \u001b[38;5;241m=\u001b[39m soup(html, \u001b[38;5;124m'\u001b[39m\u001b[38;5;124mhtml.parser\u001b[39m\u001b[38;5;124m'\u001b[39m)\n\u001b[1;32m      3\u001b[0m news_tt \u001b[38;5;241m=\u001b[39m news_soup\u001b[38;5;241m.\u001b[39mfind_all(\u001b[38;5;124m'\u001b[39m\u001b[38;5;124mdiv\u001b[39m\u001b[38;5;124m'\u001b[39m, class_\u001b[38;5;241m=\u001b[39m \u001b[38;5;124m'\u001b[39m\u001b[38;5;124mcontent_title\u001b[39m\u001b[38;5;124m'\u001b[39m)\n",
      "File \u001b[0;32m~/opt/anaconda3/lib/python3.9/site-packages/splinter/driver/webdriver/__init__.py:308\u001b[0m, in \u001b[0;36mBaseWebDriver.html\u001b[0;34m(self)\u001b[0m\n\u001b[1;32m    306\u001b[0m \u001b[38;5;129m@property\u001b[39m\n\u001b[1;32m    307\u001b[0m \u001b[38;5;28;01mdef\u001b[39;00m \u001b[38;5;21mhtml\u001b[39m(\u001b[38;5;28mself\u001b[39m):\n\u001b[0;32m--> 308\u001b[0m     \u001b[38;5;28;01mreturn\u001b[39;00m \u001b[38;5;28;43mself\u001b[39;49m\u001b[38;5;241;43m.\u001b[39;49m\u001b[43mdriver\u001b[49m\u001b[38;5;241;43m.\u001b[39;49m\u001b[43mpage_source\u001b[49m\n",
      "File \u001b[0;32m~/opt/anaconda3/lib/python3.9/site-packages/selenium/webdriver/remote/webdriver.py:540\u001b[0m, in \u001b[0;36mWebDriver.page_source\u001b[0;34m(self)\u001b[0m\n\u001b[1;32m    530\u001b[0m \u001b[38;5;129m@property\u001b[39m\n\u001b[1;32m    531\u001b[0m \u001b[38;5;28;01mdef\u001b[39;00m \u001b[38;5;21mpage_source\u001b[39m(\u001b[38;5;28mself\u001b[39m) \u001b[38;5;241m-\u001b[39m\u001b[38;5;241m>\u001b[39m \u001b[38;5;28mstr\u001b[39m:\n\u001b[1;32m    532\u001b[0m     \u001b[38;5;124;03m\"\"\"\u001b[39;00m\n\u001b[1;32m    533\u001b[0m \u001b[38;5;124;03m    Gets the source of the current page.\u001b[39;00m\n\u001b[1;32m    534\u001b[0m \n\u001b[0;32m   (...)\u001b[0m\n\u001b[1;32m    538\u001b[0m \u001b[38;5;124;03m            driver.page_source\u001b[39;00m\n\u001b[1;32m    539\u001b[0m \u001b[38;5;124;03m    \"\"\"\u001b[39;00m\n\u001b[0;32m--> 540\u001b[0m     \u001b[38;5;28;01mreturn\u001b[39;00m \u001b[38;5;28;43mself\u001b[39;49m\u001b[38;5;241;43m.\u001b[39;49m\u001b[43mexecute\u001b[49m\u001b[43m(\u001b[49m\u001b[43mCommand\u001b[49m\u001b[38;5;241;43m.\u001b[39;49m\u001b[43mGET_PAGE_SOURCE\u001b[49m\u001b[43m)\u001b[49m[\u001b[38;5;124m'\u001b[39m\u001b[38;5;124mvalue\u001b[39m\u001b[38;5;124m'\u001b[39m]\n",
      "File \u001b[0;32m~/opt/anaconda3/lib/python3.9/site-packages/selenium/webdriver/remote/webdriver.py:429\u001b[0m, in \u001b[0;36mWebDriver.execute\u001b[0;34m(self, driver_command, params)\u001b[0m\n\u001b[1;32m    427\u001b[0m response \u001b[38;5;241m=\u001b[39m \u001b[38;5;28mself\u001b[39m\u001b[38;5;241m.\u001b[39mcommand_executor\u001b[38;5;241m.\u001b[39mexecute(driver_command, params)\n\u001b[1;32m    428\u001b[0m \u001b[38;5;28;01mif\u001b[39;00m response:\n\u001b[0;32m--> 429\u001b[0m     \u001b[38;5;28;43mself\u001b[39;49m\u001b[38;5;241;43m.\u001b[39;49m\u001b[43merror_handler\u001b[49m\u001b[38;5;241;43m.\u001b[39;49m\u001b[43mcheck_response\u001b[49m\u001b[43m(\u001b[49m\u001b[43mresponse\u001b[49m\u001b[43m)\u001b[49m\n\u001b[1;32m    430\u001b[0m     response[\u001b[38;5;124m'\u001b[39m\u001b[38;5;124mvalue\u001b[39m\u001b[38;5;124m'\u001b[39m] \u001b[38;5;241m=\u001b[39m \u001b[38;5;28mself\u001b[39m\u001b[38;5;241m.\u001b[39m_unwrap_value(\n\u001b[1;32m    431\u001b[0m         response\u001b[38;5;241m.\u001b[39mget(\u001b[38;5;124m'\u001b[39m\u001b[38;5;124mvalue\u001b[39m\u001b[38;5;124m'\u001b[39m, \u001b[38;5;28;01mNone\u001b[39;00m))\n\u001b[1;32m    432\u001b[0m     \u001b[38;5;28;01mreturn\u001b[39;00m response\n",
      "File \u001b[0;32m~/opt/anaconda3/lib/python3.9/site-packages/selenium/webdriver/remote/errorhandler.py:243\u001b[0m, in \u001b[0;36mErrorHandler.check_response\u001b[0;34m(self, response)\u001b[0m\n\u001b[1;32m    241\u001b[0m         alert_text \u001b[38;5;241m=\u001b[39m value[\u001b[38;5;124m'\u001b[39m\u001b[38;5;124malert\u001b[39m\u001b[38;5;124m'\u001b[39m]\u001b[38;5;241m.\u001b[39mget(\u001b[38;5;124m'\u001b[39m\u001b[38;5;124mtext\u001b[39m\u001b[38;5;124m'\u001b[39m)\n\u001b[1;32m    242\u001b[0m     \u001b[38;5;28;01mraise\u001b[39;00m exception_class(message, screen, stacktrace, alert_text)  \u001b[38;5;66;03m# type: ignore[call-arg]  # mypy is not smart enough here\u001b[39;00m\n\u001b[0;32m--> 243\u001b[0m \u001b[38;5;28;01mraise\u001b[39;00m exception_class(message, screen, stacktrace)\n",
      "\u001b[0;31mWebDriverException\u001b[0m: Message: disconnected: Unable to receive message from renderer\n  (failed to check if window was closed: disconnected: Unable to receive message from renderer)\n  (Session info: chrome=107.0.5304.87)\nStacktrace:\n0   chromedriver                        0x0000000104da92c8 chromedriver + 4752072\n1   chromedriver                        0x0000000104d29463 chromedriver + 4228195\n2   chromedriver                        0x000000010498cb18 chromedriver + 441112\n3   chromedriver                        0x0000000104976f4d chromedriver + 352077\n4   chromedriver                        0x0000000104976ca2 chromedriver + 351394\n5   chromedriver                        0x0000000104975b0d chromedriver + 346893\n6   chromedriver                        0x0000000104975ec2 chromedriver + 347842\n7   chromedriver                        0x0000000104975351 chromedriver + 344913\n8   chromedriver                        0x0000000104983ec0 chromedriver + 405184\n9   chromedriver                        0x0000000104975306 chromedriver + 344838\n10  chromedriver                        0x00000001049768fe chromedriver + 350462\n11  chromedriver                        0x0000000104975b0d chromedriver + 346893\n12  chromedriver                        0x0000000104975ec2 chromedriver + 347842\n13  chromedriver                        0x0000000104975351 chromedriver + 344913\n14  chromedriver                        0x0000000104980faa chromedriver + 393130\n15  chromedriver                        0x0000000104975306 chromedriver + 344838\n16  chromedriver                        0x00000001049768fe chromedriver + 350462\n17  chromedriver                        0x0000000104975b0d chromedriver + 346893\n18  chromedriver                        0x0000000104975ec2 chromedriver + 347842\n19  chromedriver                        0x0000000104975351 chromedriver + 344913\n20  chromedriver                        0x000000010497c52c chromedriver + 374060\n21  chromedriver                        0x0000000104975306 chromedriver + 344838\n22  chromedriver                        0x00000001049768fe chromedriver + 350462\n23  chromedriver                        0x0000000104975b0d chromedriver + 346893\n24  chromedriver                        0x0000000104975ec2 chromedriver + 347842\n25  chromedriver                        0x0000000104975351 chromedriver + 344913\n26  chromedriver                        0x000000010496f260 chromedriver + 320096\n27  chromedriver                        0x0000000104975306 chromedriver + 344838\n28  chromedriver                        0x0000000104974872 chromedriver + 342130\n29  chromedriver                        0x0000000104974a3d chromedriver + 342589\n30  chromedriver                        0x0000000104974d37 chromedriver + 343351\n31  chromedriver                        0x0000000104974ced chromedriver + 343277\n32  chromedriver                        0x000000010498e25b chromedriver + 447067\n33  chromedriver                        0x0000000104a02768 chromedriver + 923496\n34  chromedriver                        0x00000001049eab33 chromedriver + 826163\n35  chromedriver                        0x00000001049bb9fd chromedriver + 633341\n36  chromedriver                        0x00000001049bd051 chromedriver + 639057\n37  chromedriver                        0x0000000104d7630e chromedriver + 4543246\n38  chromedriver                        0x0000000104d7aa88 chromedriver + 4561544\n39  chromedriver                        0x0000000104d826df chromedriver + 4593375\n40  chromedriver                        0x0000000104d7b8fa chromedriver + 4565242\n41  chromedriver                        0x0000000104d512cf chromedriver + 4391631\n42  chromedriver                        0x0000000104d9a5b8 chromedriver + 4691384\n43  chromedriver                        0x0000000104d9a739 chromedriver + 4691769\n44  chromedriver                        0x0000000104db081e chromedriver + 4782110\n45  libsystem_pthread.dylib             0x00007ff80934d4e1 _pthread_start + 125\n46  libsystem_pthread.dylib             0x00007ff809348f6b thread_start + 15\n"
     ]
    }
   ],
   "source": [
    "html = browser.html\n",
    "news_soup = soup(html, 'html.parser')"
   ]
  },
  {
   "cell_type": "code",
   "execution_count": 40,
   "id": "339c016e",
   "metadata": {},
   "outputs": [
    {
     "data": {
      "text/plain": [
       "[<div class=\"content_title\">NASA's Mars 2020 Rover Tests Descent-Stage Separation</div>,\n",
       " <div class=\"content_title\">NASA Establishes Board to Initially Review Mars Sample Return Plans</div>,\n",
       " <div class=\"content_title\">NASA Mars Mission Connects With Bosnian and Herzegovinian Town</div>,\n",
       " <div class=\"content_title\">NASA's Mars Perseverance Rover Gets Its Sample Handling System</div>,\n",
       " <div class=\"content_title\">NASA's Perseverance Mars Rover Gets Balanced</div>,\n",
       " <div class=\"content_title\">Mars Is Getting a New Robotic Meteorologist</div>,\n",
       " <div class=\"content_title\">7 Things to Know About the Mars 2020 Perseverance Rover Mission</div>,\n",
       " <div class=\"content_title\">NASA's Treasure Map for Water Ice on Mars</div>,\n",
       " <div class=\"content_title\">Nine Finalists Chosen in NASA's Mars 2020 Rover Naming Contest</div>,\n",
       " <div class=\"content_title\">NASA's Perseverance Rover Bringing 3D-Printed Metal Parts to Mars</div>,\n",
       " <div class=\"content_title\">Hear Audio From NASA's Perseverance As It Travels Through Deep Space</div>,\n",
       " <div class=\"content_title\">MAVEN Maps Electric Currents around Mars that are Fundamental to Atmospheric Loss</div>,\n",
       " <div class=\"content_title\">NASA InSight's 'Mole' Is Out of Sight</div>,\n",
       " <div class=\"content_title\">Sensors on Mars 2020 Spacecraft Answer Long-Distance Call From Earth</div>,\n",
       " <div class=\"content_title\">NASA Wins Two Emmy Awards for Interactive Mission Coverage</div>]"
      ]
     },
     "execution_count": 40,
     "metadata": {},
     "output_type": "execute_result"
    }
   ],
   "source": [
    "news_ti = news_soup.find_all(\"div\", class_='content_title')\n",
    "news_ti"
   ]
  },
  {
   "cell_type": "code",
   "execution_count": 41,
   "id": "deadfb07",
   "metadata": {},
   "outputs": [
    {
     "data": {
      "text/plain": [
       "[<div class=\"article_teaser_body\">A crane lifts the rocket-powered descent stage away from NASA's Mars 2020 rover after technicians tested the pyrotechnic charges that separate the two spacecraft.</div>,\n",
       " <div class=\"article_teaser_body\">The board will assist with analysis of current plans and goals for one of the most difficult missions humanity has ever undertaken.</div>,\n",
       " <div class=\"article_teaser_body\">A letter from NASA was presented to the mayor of Jezero, Bosnia-Herzegovina, honoring the connection between the town and Jezero Crater, the Mars 2020 rover landing site.</div>,\n",
       " <div class=\"article_teaser_body\">The system will be collecting and storing Martian rock and soil. Its installation marks another milestone in the march toward the July launch period.</div>,\n",
       " <div class=\"article_teaser_body\">The mission team performed a crucial weight-balancing test on the rover in preparation for this summer's history-making launch to the Red Planet.</div>,\n",
       " <div class=\"article_teaser_body\">Sensors on NASA's Perseverance will help prepare for future human exploration by taking weather measurements and studying dust particles.</div>,\n",
       " <div class=\"article_teaser_body\">NASA's next rover to the Red Planet is slated to launch no earlier than July 30. These highlights will get you up to speed on the ambitious mission.</div>,\n",
       " <div class=\"article_teaser_body\">A new study identifies frozen water just below the Martian surface, where astronauts could easily dig it up.</div>,\n",
       " <div class=\"article_teaser_body\">Nine finalists have been chosen in the essay contest for K-12 students across U.S. to name NASA's next Mars rover. Now you can help by voting for your favorite. </div>,\n",
       " <div class=\"article_teaser_body\">For hobbyists and makers, 3D printing expands creative possibilities; for specialized engineers, it's also key to next-generation spacecraft design.</div>,\n",
       " <div class=\"article_teaser_body\">The first to be rigged with microphones, the agency's latest Mars rover picked up the subtle sounds of its own inner workings during interplanetary flight.</div>,\n",
       " <div class=\"article_teaser_body\">Five years after NASA’s MAVEN spacecraft entered into orbit around Mars, data from the mission has led to the creation of a map of electric current systems in the Martian atmosphere.</div>,\n",
       " <div class=\"article_teaser_body\">Now that the heat probe is just below the Martian surface, InSight's arm will scoop some additional soil on top to help it keep digging so it can take Mars' temperature.</div>,\n",
       " <div class=\"article_teaser_body\">Instruments tailored to collect data during the descent of NASA's next rover through the Red Planet's atmosphere have been checked in flight.</div>,\n",
       " <div class=\"article_teaser_body\">NASA-JPL's coverage of the Mars InSight landing earns one of the two wins, making this the NASA center's second Emmy.</div>]"
      ]
     },
     "execution_count": 41,
     "metadata": {},
     "output_type": "execute_result"
    }
   ],
   "source": [
    "news_te = news_soup.find_all('div', class_=\"article_teaser_body\")\n",
    "news_te"
   ]
  },
  {
   "cell_type": "code",
   "execution_count": 43,
   "id": "0fa05ceb",
   "metadata": {},
   "outputs": [
    {
     "data": {
      "text/plain": [
       "[{'title': [<div class=\"content_title\">NASA's Mars 2020 Rover Tests Descent-Stage Separation</div>,\n",
       "   <div class=\"content_title\">NASA Establishes Board to Initially Review Mars Sample Return Plans</div>,\n",
       "   <div class=\"content_title\">NASA Mars Mission Connects With Bosnian and Herzegovinian Town</div>,\n",
       "   <div class=\"content_title\">NASA's Mars Perseverance Rover Gets Its Sample Handling System</div>,\n",
       "   <div class=\"content_title\">NASA's Perseverance Mars Rover Gets Balanced</div>,\n",
       "   <div class=\"content_title\">Mars Is Getting a New Robotic Meteorologist</div>,\n",
       "   <div class=\"content_title\">7 Things to Know About the Mars 2020 Perseverance Rover Mission</div>,\n",
       "   <div class=\"content_title\">NASA's Treasure Map for Water Ice on Mars</div>,\n",
       "   <div class=\"content_title\">Nine Finalists Chosen in NASA's Mars 2020 Rover Naming Contest</div>,\n",
       "   <div class=\"content_title\">NASA's Perseverance Rover Bringing 3D-Printed Metal Parts to Mars</div>,\n",
       "   <div class=\"content_title\">Hear Audio From NASA's Perseverance As It Travels Through Deep Space</div>,\n",
       "   <div class=\"content_title\">MAVEN Maps Electric Currents around Mars that are Fundamental to Atmospheric Loss</div>,\n",
       "   <div class=\"content_title\">NASA InSight's 'Mole' Is Out of Sight</div>,\n",
       "   <div class=\"content_title\">Sensors on Mars 2020 Spacecraft Answer Long-Distance Call From Earth</div>,\n",
       "   <div class=\"content_title\">NASA Wins Two Emmy Awards for Interactive Mission Coverage</div>],\n",
       "  'preview': [<div class=\"article_teaser_body\">A crane lifts the rocket-powered descent stage away from NASA's Mars 2020 rover after technicians tested the pyrotechnic charges that separate the two spacecraft.</div>,\n",
       "   <div class=\"article_teaser_body\">The board will assist with analysis of current plans and goals for one of the most difficult missions humanity has ever undertaken.</div>,\n",
       "   <div class=\"article_teaser_body\">A letter from NASA was presented to the mayor of Jezero, Bosnia-Herzegovina, honoring the connection between the town and Jezero Crater, the Mars 2020 rover landing site.</div>,\n",
       "   <div class=\"article_teaser_body\">The system will be collecting and storing Martian rock and soil. Its installation marks another milestone in the march toward the July launch period.</div>,\n",
       "   <div class=\"article_teaser_body\">The mission team performed a crucial weight-balancing test on the rover in preparation for this summer's history-making launch to the Red Planet.</div>,\n",
       "   <div class=\"article_teaser_body\">Sensors on NASA's Perseverance will help prepare for future human exploration by taking weather measurements and studying dust particles.</div>,\n",
       "   <div class=\"article_teaser_body\">NASA's next rover to the Red Planet is slated to launch no earlier than July 30. These highlights will get you up to speed on the ambitious mission.</div>,\n",
       "   <div class=\"article_teaser_body\">A new study identifies frozen water just below the Martian surface, where astronauts could easily dig it up.</div>,\n",
       "   <div class=\"article_teaser_body\">Nine finalists have been chosen in the essay contest for K-12 students across U.S. to name NASA's next Mars rover. Now you can help by voting for your favorite. </div>,\n",
       "   <div class=\"article_teaser_body\">For hobbyists and makers, 3D printing expands creative possibilities; for specialized engineers, it's also key to next-generation spacecraft design.</div>,\n",
       "   <div class=\"article_teaser_body\">The first to be rigged with microphones, the agency's latest Mars rover picked up the subtle sounds of its own inner workings during interplanetary flight.</div>,\n",
       "   <div class=\"article_teaser_body\">Five years after NASA’s MAVEN spacecraft entered into orbit around Mars, data from the mission has led to the creation of a map of electric current systems in the Martian atmosphere.</div>,\n",
       "   <div class=\"article_teaser_body\">Now that the heat probe is just below the Martian surface, InSight's arm will scoop some additional soil on top to help it keep digging so it can take Mars' temperature.</div>,\n",
       "   <div class=\"article_teaser_body\">Instruments tailored to collect data during the descent of NASA's next rover through the Red Planet's atmosphere have been checked in flight.</div>,\n",
       "   <div class=\"article_teaser_body\">NASA-JPL's coverage of the Mars InSight landing earns one of the two wins, making this the NASA center's second Emmy.</div>]}]"
      ]
     },
     "execution_count": 43,
     "metadata": {},
     "output_type": "execute_result"
    }
   ],
   "source": [
    "newstt = []\n",
    "\n",
    "for item in news_soup:\n",
    "    news_title = news_soup.find_all('div', class_= 'content_title')\n",
    "    news_teaser = news_soup.find_all('div', class_= 'article_teaser_body')\n",
    "    newstt.append({'title': news_title, 'preview': news_teaser})\n",
    "newstt"
   ]
  },
  {
   "cell_type": "code",
   "execution_count": 46,
   "id": "72ec56ae",
   "metadata": {},
   "outputs": [
    {
     "data": {
      "text/plain": [
       "[{'title': \"NASA's Mars 2020 Rover Tests Descent-Stage Separation\",\n",
       "  'preview': \"A crane lifts the rocket-powered descent stage away from NASA's Mars 2020 rover after technicians tested the pyrotechnic charges that separate the two spacecraft.\"}]"
      ]
     },
     "execution_count": 46,
     "metadata": {},
     "output_type": "execute_result"
    }
   ],
   "source": [
    "newstt = []\n",
    " \n",
    "for item in news_soup:\n",
    "    news_title = news_soup.find('div', class_= 'content_title').get_text()\n",
    "    news_teaser = news_soup.find('div', class_= 'article_teaser_body').get.text()\n",
    "    newstt.append({'title': news_title, 'preview': news_teaser})\n",
    "newstt"
   ]
  },
  {
   "cell_type": "code",
   "execution_count": 49,
   "id": "0781f9a9",
   "metadata": {},
   "outputs": [
    {
     "data": {
      "text/plain": [
       "[{'key_name_title': [<div class=\"content_title\">NASA's Mars 2020 Rover Tests Descent-Stage Separation</div>,\n",
       "   <div class=\"content_title\">NASA Establishes Board to Initially Review Mars Sample Return Plans</div>,\n",
       "   <div class=\"content_title\">NASA Mars Mission Connects With Bosnian and Herzegovinian Town</div>,\n",
       "   <div class=\"content_title\">NASA's Mars Perseverance Rover Gets Its Sample Handling System</div>,\n",
       "   <div class=\"content_title\">NASA's Perseverance Mars Rover Gets Balanced</div>,\n",
       "   <div class=\"content_title\">Mars Is Getting a New Robotic Meteorologist</div>,\n",
       "   <div class=\"content_title\">7 Things to Know About the Mars 2020 Perseverance Rover Mission</div>,\n",
       "   <div class=\"content_title\">NASA's Treasure Map for Water Ice on Mars</div>,\n",
       "   <div class=\"content_title\">Nine Finalists Chosen in NASA's Mars 2020 Rover Naming Contest</div>,\n",
       "   <div class=\"content_title\">NASA's Perseverance Rover Bringing 3D-Printed Metal Parts to Mars</div>,\n",
       "   <div class=\"content_title\">Hear Audio From NASA's Perseverance As It Travels Through Deep Space</div>,\n",
       "   <div class=\"content_title\">MAVEN Maps Electric Currents around Mars that are Fundamental to Atmospheric Loss</div>,\n",
       "   <div class=\"content_title\">NASA InSight's 'Mole' Is Out of Sight</div>,\n",
       "   <div class=\"content_title\">Sensors on Mars 2020 Spacecraft Answer Long-Distance Call From Earth</div>,\n",
       "   <div class=\"content_title\">NASA Wins Two Emmy Awards for Interactive Mission Coverage</div>],\n",
       "  'key_name_teaser': [<div class=\"article_teaser_body\">A crane lifts the rocket-powered descent stage away from NASA's Mars 2020 rover after technicians tested the pyrotechnic charges that separate the two spacecraft.</div>,\n",
       "   <div class=\"article_teaser_body\">The board will assist with analysis of current plans and goals for one of the most difficult missions humanity has ever undertaken.</div>,\n",
       "   <div class=\"article_teaser_body\">A letter from NASA was presented to the mayor of Jezero, Bosnia-Herzegovina, honoring the connection between the town and Jezero Crater, the Mars 2020 rover landing site.</div>,\n",
       "   <div class=\"article_teaser_body\">The system will be collecting and storing Martian rock and soil. Its installation marks another milestone in the march toward the July launch period.</div>,\n",
       "   <div class=\"article_teaser_body\">The mission team performed a crucial weight-balancing test on the rover in preparation for this summer's history-making launch to the Red Planet.</div>,\n",
       "   <div class=\"article_teaser_body\">Sensors on NASA's Perseverance will help prepare for future human exploration by taking weather measurements and studying dust particles.</div>,\n",
       "   <div class=\"article_teaser_body\">NASA's next rover to the Red Planet is slated to launch no earlier than July 30. These highlights will get you up to speed on the ambitious mission.</div>,\n",
       "   <div class=\"article_teaser_body\">A new study identifies frozen water just below the Martian surface, where astronauts could easily dig it up.</div>,\n",
       "   <div class=\"article_teaser_body\">Nine finalists have been chosen in the essay contest for K-12 students across U.S. to name NASA's next Mars rover. Now you can help by voting for your favorite. </div>,\n",
       "   <div class=\"article_teaser_body\">For hobbyists and makers, 3D printing expands creative possibilities; for specialized engineers, it's also key to next-generation spacecraft design.</div>,\n",
       "   <div class=\"article_teaser_body\">The first to be rigged with microphones, the agency's latest Mars rover picked up the subtle sounds of its own inner workings during interplanetary flight.</div>,\n",
       "   <div class=\"article_teaser_body\">Five years after NASA’s MAVEN spacecraft entered into orbit around Mars, data from the mission has led to the creation of a map of electric current systems in the Martian atmosphere.</div>,\n",
       "   <div class=\"article_teaser_body\">Now that the heat probe is just below the Martian surface, InSight's arm will scoop some additional soil on top to help it keep digging so it can take Mars' temperature.</div>,\n",
       "   <div class=\"article_teaser_body\">Instruments tailored to collect data during the descent of NASA's next rover through the Red Planet's atmosphere have been checked in flight.</div>,\n",
       "   <div class=\"article_teaser_body\">NASA-JPL's coverage of the Mars InSight landing earns one of the two wins, making this the NASA center's second Emmy.</div>]}]"
      ]
     },
     "execution_count": 49,
     "metadata": {},
     "output_type": "execute_result"
    }
   ],
   "source": [
    "newstts = []\n",
    "\n",
    "for item in news_soup:\n",
    "    news_title = news_soup.find_all('div', class_= 'content_title')\n",
    "    news_teaser = news_soup.find_all('div', class_= 'article_teaser_body')\n",
    "    newstts.append({'key_name_title': news_title, 'key_name_teaser': news_teaser})\n",
    "newstts"
   ]
  },
  {
   "cell_type": "code",
   "execution_count": null,
   "id": "b476092d",
   "metadata": {},
   "outputs": [],
   "source": []
  },
  {
   "cell_type": "code",
   "execution_count": null,
   "id": "d5438647",
   "metadata": {},
   "outputs": [],
   "source": []
  },
  {
   "cell_type": "code",
   "execution_count": null,
   "id": "067d0623",
   "metadata": {},
   "outputs": [],
   "source": []
  },
  {
   "cell_type": "code",
   "execution_count": null,
   "id": "f277968b",
   "metadata": {},
   "outputs": [],
   "source": [
    "browser.quit()"
   ]
  },
  {
   "cell_type": "code",
   "execution_count": null,
   "id": "16954248",
   "metadata": {},
   "outputs": [],
   "source": []
  }
 ],
 "metadata": {
  "kernelspec": {
   "display_name": "Python 3 (ipykernel)",
   "language": "python",
   "name": "python3"
  },
  "language_info": {
   "codemirror_mode": {
    "name": "ipython",
    "version": 3
   },
   "file_extension": ".py",
   "mimetype": "text/x-python",
   "name": "python",
   "nbconvert_exporter": "python",
   "pygments_lexer": "ipython3",
   "version": "3.9.12"
  }
 },
 "nbformat": 4,
 "nbformat_minor": 5
}
